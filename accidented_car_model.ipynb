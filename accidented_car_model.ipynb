{
  "nbformat": 4,
  "nbformat_minor": 0,
  "metadata": {
    "accelerator": "GPU",
    "colab": {
      "name": "accidented_car_model.ipynb",
      "provenance": [],
      "collapsed_sections": [],
      "include_colab_link": true
    },
    "kernelspec": {
      "display_name": "Python 3",
      "language": "python",
      "name": "python3"
    },
    "language_info": {
      "codemirror_mode": {
        "name": "ipython",
        "version": 3
      },
      "file_extension": ".py",
      "mimetype": "text/x-python",
      "name": "python",
      "nbconvert_exporter": "python",
      "pygments_lexer": "ipython3",
      "version": "3.6.13"
    },
    "widgets": {
      "application/vnd.jupyter.widget-state+json": {
        "903def1abcce4c169c59bda590792fa0": {
          "model_module": "@jupyter-widgets/controls",
          "model_name": "HBoxModel",
          "model_module_version": "1.5.0",
          "state": {
            "_view_name": "HBoxView",
            "_dom_classes": [],
            "_model_name": "HBoxModel",
            "_view_module": "@jupyter-widgets/controls",
            "_model_module_version": "1.5.0",
            "_view_count": null,
            "_view_module_version": "1.5.0",
            "box_style": "",
            "layout": "IPY_MODEL_509d15bc1f9f4fa18e299cce32e551a9",
            "_model_module": "@jupyter-widgets/controls",
            "children": [
              "IPY_MODEL_cae1a503192b40f0bb76d09fc65ac6a5",
              "IPY_MODEL_aa0b85f76eed4ff1b8e89224cbef590d",
              "IPY_MODEL_c84f71b237cf485aa03d72da9a6bfe7f"
            ]
          }
        },
        "509d15bc1f9f4fa18e299cce32e551a9": {
          "model_module": "@jupyter-widgets/base",
          "model_name": "LayoutModel",
          "model_module_version": "1.2.0",
          "state": {
            "_view_name": "LayoutView",
            "grid_template_rows": null,
            "right": null,
            "justify_content": null,
            "_view_module": "@jupyter-widgets/base",
            "overflow": null,
            "_model_module_version": "1.2.0",
            "_view_count": null,
            "flex_flow": null,
            "width": null,
            "min_width": null,
            "border": null,
            "align_items": null,
            "bottom": null,
            "_model_module": "@jupyter-widgets/base",
            "top": null,
            "grid_column": null,
            "overflow_y": null,
            "overflow_x": null,
            "grid_auto_flow": null,
            "grid_area": null,
            "grid_template_columns": null,
            "flex": null,
            "_model_name": "LayoutModel",
            "justify_items": null,
            "grid_row": null,
            "max_height": null,
            "align_content": null,
            "visibility": null,
            "align_self": null,
            "height": null,
            "min_height": null,
            "padding": null,
            "grid_auto_rows": null,
            "grid_gap": null,
            "max_width": null,
            "order": null,
            "_view_module_version": "1.2.0",
            "grid_template_areas": null,
            "object_position": null,
            "object_fit": null,
            "grid_auto_columns": null,
            "margin": null,
            "display": null,
            "left": null
          }
        },
        "cae1a503192b40f0bb76d09fc65ac6a5": {
          "model_module": "@jupyter-widgets/controls",
          "model_name": "HTMLModel",
          "model_module_version": "1.5.0",
          "state": {
            "_view_name": "HTMLView",
            "style": "IPY_MODEL_12024e58c2f4460983827b54885ad37c",
            "_dom_classes": [],
            "description": "",
            "_model_name": "HTMLModel",
            "placeholder": "​",
            "_view_module": "@jupyter-widgets/controls",
            "_model_module_version": "1.5.0",
            "value": "100%",
            "_view_count": null,
            "_view_module_version": "1.5.0",
            "description_tooltip": null,
            "_model_module": "@jupyter-widgets/controls",
            "layout": "IPY_MODEL_9ec41ce77979442b9dc410cd9717d051"
          }
        },
        "aa0b85f76eed4ff1b8e89224cbef590d": {
          "model_module": "@jupyter-widgets/controls",
          "model_name": "FloatProgressModel",
          "model_module_version": "1.5.0",
          "state": {
            "_view_name": "ProgressView",
            "style": "IPY_MODEL_d07970c519a44154bf3d2aae4cf66418",
            "_dom_classes": [],
            "description": "",
            "_model_name": "FloatProgressModel",
            "bar_style": "success",
            "max": 102530333,
            "_view_module": "@jupyter-widgets/controls",
            "_model_module_version": "1.5.0",
            "value": 102530333,
            "_view_count": null,
            "_view_module_version": "1.5.0",
            "orientation": "horizontal",
            "min": 0,
            "description_tooltip": null,
            "_model_module": "@jupyter-widgets/controls",
            "layout": "IPY_MODEL_722a108f43674eb4a1cb87285974f644"
          }
        },
        "c84f71b237cf485aa03d72da9a6bfe7f": {
          "model_module": "@jupyter-widgets/controls",
          "model_name": "HTMLModel",
          "model_module_version": "1.5.0",
          "state": {
            "_view_name": "HTMLView",
            "style": "IPY_MODEL_7bf1f0b10a65425a907e3a46cc130834",
            "_dom_classes": [],
            "description": "",
            "_model_name": "HTMLModel",
            "placeholder": "​",
            "_view_module": "@jupyter-widgets/controls",
            "_model_module_version": "1.5.0",
            "value": " 97.8M/97.8M [00:00&lt;00:00, 134MB/s]",
            "_view_count": null,
            "_view_module_version": "1.5.0",
            "description_tooltip": null,
            "_model_module": "@jupyter-widgets/controls",
            "layout": "IPY_MODEL_201ccb995633492d9af9b118a00ee12c"
          }
        },
        "12024e58c2f4460983827b54885ad37c": {
          "model_module": "@jupyter-widgets/controls",
          "model_name": "DescriptionStyleModel",
          "model_module_version": "1.5.0",
          "state": {
            "_view_name": "StyleView",
            "_model_name": "DescriptionStyleModel",
            "description_width": "",
            "_view_module": "@jupyter-widgets/base",
            "_model_module_version": "1.5.0",
            "_view_count": null,
            "_view_module_version": "1.2.0",
            "_model_module": "@jupyter-widgets/controls"
          }
        },
        "9ec41ce77979442b9dc410cd9717d051": {
          "model_module": "@jupyter-widgets/base",
          "model_name": "LayoutModel",
          "model_module_version": "1.2.0",
          "state": {
            "_view_name": "LayoutView",
            "grid_template_rows": null,
            "right": null,
            "justify_content": null,
            "_view_module": "@jupyter-widgets/base",
            "overflow": null,
            "_model_module_version": "1.2.0",
            "_view_count": null,
            "flex_flow": null,
            "width": null,
            "min_width": null,
            "border": null,
            "align_items": null,
            "bottom": null,
            "_model_module": "@jupyter-widgets/base",
            "top": null,
            "grid_column": null,
            "overflow_y": null,
            "overflow_x": null,
            "grid_auto_flow": null,
            "grid_area": null,
            "grid_template_columns": null,
            "flex": null,
            "_model_name": "LayoutModel",
            "justify_items": null,
            "grid_row": null,
            "max_height": null,
            "align_content": null,
            "visibility": null,
            "align_self": null,
            "height": null,
            "min_height": null,
            "padding": null,
            "grid_auto_rows": null,
            "grid_gap": null,
            "max_width": null,
            "order": null,
            "_view_module_version": "1.2.0",
            "grid_template_areas": null,
            "object_position": null,
            "object_fit": null,
            "grid_auto_columns": null,
            "margin": null,
            "display": null,
            "left": null
          }
        },
        "d07970c519a44154bf3d2aae4cf66418": {
          "model_module": "@jupyter-widgets/controls",
          "model_name": "ProgressStyleModel",
          "model_module_version": "1.5.0",
          "state": {
            "_view_name": "StyleView",
            "_model_name": "ProgressStyleModel",
            "description_width": "",
            "_view_module": "@jupyter-widgets/base",
            "_model_module_version": "1.5.0",
            "_view_count": null,
            "_view_module_version": "1.2.0",
            "bar_color": null,
            "_model_module": "@jupyter-widgets/controls"
          }
        },
        "722a108f43674eb4a1cb87285974f644": {
          "model_module": "@jupyter-widgets/base",
          "model_name": "LayoutModel",
          "model_module_version": "1.2.0",
          "state": {
            "_view_name": "LayoutView",
            "grid_template_rows": null,
            "right": null,
            "justify_content": null,
            "_view_module": "@jupyter-widgets/base",
            "overflow": null,
            "_model_module_version": "1.2.0",
            "_view_count": null,
            "flex_flow": null,
            "width": null,
            "min_width": null,
            "border": null,
            "align_items": null,
            "bottom": null,
            "_model_module": "@jupyter-widgets/base",
            "top": null,
            "grid_column": null,
            "overflow_y": null,
            "overflow_x": null,
            "grid_auto_flow": null,
            "grid_area": null,
            "grid_template_columns": null,
            "flex": null,
            "_model_name": "LayoutModel",
            "justify_items": null,
            "grid_row": null,
            "max_height": null,
            "align_content": null,
            "visibility": null,
            "align_self": null,
            "height": null,
            "min_height": null,
            "padding": null,
            "grid_auto_rows": null,
            "grid_gap": null,
            "max_width": null,
            "order": null,
            "_view_module_version": "1.2.0",
            "grid_template_areas": null,
            "object_position": null,
            "object_fit": null,
            "grid_auto_columns": null,
            "margin": null,
            "display": null,
            "left": null
          }
        },
        "7bf1f0b10a65425a907e3a46cc130834": {
          "model_module": "@jupyter-widgets/controls",
          "model_name": "DescriptionStyleModel",
          "model_module_version": "1.5.0",
          "state": {
            "_view_name": "StyleView",
            "_model_name": "DescriptionStyleModel",
            "description_width": "",
            "_view_module": "@jupyter-widgets/base",
            "_model_module_version": "1.5.0",
            "_view_count": null,
            "_view_module_version": "1.2.0",
            "_model_module": "@jupyter-widgets/controls"
          }
        },
        "201ccb995633492d9af9b118a00ee12c": {
          "model_module": "@jupyter-widgets/base",
          "model_name": "LayoutModel",
          "model_module_version": "1.2.0",
          "state": {
            "_view_name": "LayoutView",
            "grid_template_rows": null,
            "right": null,
            "justify_content": null,
            "_view_module": "@jupyter-widgets/base",
            "overflow": null,
            "_model_module_version": "1.2.0",
            "_view_count": null,
            "flex_flow": null,
            "width": null,
            "min_width": null,
            "border": null,
            "align_items": null,
            "bottom": null,
            "_model_module": "@jupyter-widgets/base",
            "top": null,
            "grid_column": null,
            "overflow_y": null,
            "overflow_x": null,
            "grid_auto_flow": null,
            "grid_area": null,
            "grid_template_columns": null,
            "flex": null,
            "_model_name": "LayoutModel",
            "justify_items": null,
            "grid_row": null,
            "max_height": null,
            "align_content": null,
            "visibility": null,
            "align_self": null,
            "height": null,
            "min_height": null,
            "padding": null,
            "grid_auto_rows": null,
            "grid_gap": null,
            "max_width": null,
            "order": null,
            "_view_module_version": "1.2.0",
            "grid_template_areas": null,
            "object_position": null,
            "object_fit": null,
            "grid_auto_columns": null,
            "margin": null,
            "display": null,
            "left": null
          }
        }
      }
    }
  },
  "cells": [
    {
      "cell_type": "markdown",
      "metadata": {
        "id": "view-in-github",
        "colab_type": "text"
      },
      "source": [
        "<a href=\"https://colab.research.google.com/github/Engrgit/Curacel-tasks/blob/main/accidented_car_model.ipynb\" target=\"_parent\"><img src=\"https://colab.research.google.com/assets/colab-badge.svg\" alt=\"Open In Colab\"/></a>"
      ]
    },
    {
      "cell_type": "code",
      "metadata": {
        "id": "Tjmpyau1Ec_y"
      },
      "source": [
        "%matplotlib inline"
      ],
      "execution_count": 2,
      "outputs": []
    },
    {
      "cell_type": "markdown",
      "metadata": {
        "id": "7caLVJphEc_1"
      },
      "source": [
        "![alt text](https://tse3.mm.bing.net/th?id=OIP.UkPPlVHOiOdzOmwzuBrrqwHaBl&pid=Api&P=0&w=517&h=110)\n",
        "Machine learning Model for Detecting Accidented Cars from Non-Accidented Cars\n",
        "==============================================\n",
        "**Author**: Ibrahim Gbadegesin\n",
        "\n",
        "**Github**: <https://github.com/Engrgit/Curacel-tasks>\n"
      ]
    },
    {
      "cell_type": "markdown",
      "metadata": {
        "id": "2SMzvNnkl7Qs"
      },
      "source": [
        "Mount your drive"
      ]
    },
    {
      "cell_type": "code",
      "metadata": {
        "colab": {
          "base_uri": "https://localhost:8080/"
        },
        "id": "Tx3neyJKl5R9",
        "outputId": "2a9b637b-fba1-48f8-b7fb-58d83b068f36"
      },
      "source": [
        "from google.colab import drive\n",
        "drive.mount('/content/drive', force_remount= True)"
      ],
      "execution_count": 3,
      "outputs": [
        {
          "output_type": "stream",
          "name": "stdout",
          "text": [
            "Mounted at /content/drive\n"
          ]
        }
      ]
    },
    {
      "cell_type": "markdown",
      "metadata": {
        "id": "KSTbpSTPmnK8"
      },
      "source": [
        "Import some python libraries"
      ]
    },
    {
      "cell_type": "code",
      "metadata": {
        "id": "VTqLNIpbEc_3"
      },
      "source": [
        "from __future__ import print_function, division\n",
        "\n",
        "import torch\n",
        "import torch.nn as nn\n",
        "import torch.optim as optim\n",
        "from torch.optim import lr_scheduler\n",
        "import numpy as np\n",
        "import torchvision\n",
        "from torchvision import datasets, models, transforms\n",
        "import matplotlib.pyplot as plt\n",
        "import time\n",
        "import os\n",
        "import copy\n",
        "\n",
        "plt.ion()   # interactive mode"
      ],
      "execution_count": 4,
      "outputs": []
    },
    {
      "cell_type": "markdown",
      "metadata": {
        "id": "KK-sae3NmaM1"
      },
      "source": [
        "Change to dataset directory"
      ]
    },
    {
      "cell_type": "code",
      "metadata": {
        "id": "GNj9g8Yelw--"
      },
      "source": [
        "data_directory = \"/content/drive/My Drive/Curacel_ai_engine\"\n",
        "os.chdir(data_directory)"
      ],
      "execution_count": 5,
      "outputs": []
    },
    {
      "cell_type": "markdown",
      "metadata": {
        "id": "H_v6FeoV5n_z"
      },
      "source": [
        "#Lets do data preprocessing\n",
        "The goal is to clean the data and rename for ease"
      ]
    },
    {
      "cell_type": "code",
      "metadata": {
        "id": "Rckus-8O5rPg"
      },
      "source": [
        "#train_dir = \"/content/drive/My Drive/Curacel_ai_engine/car_data/train\"\n",
        "#val_dir = \"/content/drive/My Drive/Curacel_ai_engine/car_data/val\"\n",
        " "
      ],
      "execution_count": null,
      "outputs": []
    },
    {
      "cell_type": "code",
      "metadata": {
        "id": "h8qkA0Ps_L6N"
      },
      "source": [
        "#Replace data_directory with train_dir and val_dir respectively and run the block for each case.\n",
        "#data_directory = \"/content/drive/My Drive/Curacel_ai_engine/car_data/val\"\n",
        "#os.chdir(data_directory)"
      ],
      "execution_count": null,
      "outputs": []
    },
    {
      "cell_type": "code",
      "metadata": {
        "id": "6wtctAAM-s8e"
      },
      "source": [
        "# This block helps in proper numbering of the data and formating in .jpg\n",
        "#import os\n",
        "#for dirname in os.listdir(\".\"):\n",
        "#    if os.path.isdir(dirname):\n",
        "#        for i, filename in enumerate(os.listdir(dirname)):\n",
        "#            os.rename(dirname + \"/\" + filename, dirname + \"/\" + str(i) + \".jpg\")"
      ],
      "execution_count": null,
      "outputs": []
    },
    {
      "cell_type": "markdown",
      "metadata": {
        "id": "RSQum07pEc_4"
      },
      "source": [
        "Load Data\n",
        "---------\n",
        "\n",
        "The problem is to train a model to classify\n",
        "**accidented cars** from **non-accidented cars**. For the sake of brevity, we will abstract the accidented cars as **a_cars** and non-accidented cars as **n_cars**.\n",
        "We have about 990 training images each for a_cars and n_cars.\n",
        "In the validation data pool, there are 1010 images for n_cars and 1000 images for a_cars.\n",
        "\n",
        "I will be using all of the training sets and using a fractional part of the validation set. The rule of tumb is 70:30 ratio split between the training and the validation set. \n",
        "If 0.7 of x = 990 images. Then x is 990/0.7 = 1424. Then 0.3 of 1414 = 424.\n",
        "\n",
        "Hence, I will be using 424 images from the validation sets. The rest of the images will be used to test the model after building.\n",
        "\n",
        "I will be using a pretrained model to improve model learning due to data small size. Kindly follow me on this ride.\n"
      ]
    },
    {
      "cell_type": "code",
      "metadata": {
        "id": "EK1W9zNSEc_4"
      },
      "source": [
        "# Data augmentation and normalization for training\n",
        "# Just normalization for validation\n",
        "data_transforms = {\n",
        "    'train': transforms.Compose([\n",
        "        transforms.RandomResizedCrop(224),\n",
        "        transforms.RandomHorizontalFlip(),\n",
        "        transforms.ToTensor(),\n",
        "        transforms.Normalize([0.485, 0.456, 0.406], [0.229, 0.224, 0.225])\n",
        "    ]),\n",
        "    'val': transforms.Compose([\n",
        "        transforms.Resize(256),\n",
        "        transforms.CenterCrop(224),\n",
        "        transforms.ToTensor(),\n",
        "        transforms.Normalize([0.485, 0.456, 0.406], [0.229, 0.224, 0.225])\n",
        "    ]),\n",
        "}\n",
        "\n",
        "#data_dir = 'data/hymenoptera_data'  # change this\n",
        "data_dir = \"/content/drive/My Drive/Curacel_ai_engine/car_data\"\n",
        "image_datasets = {x: datasets.ImageFolder(os.path.join(data_dir, x),\n",
        "                                          data_transforms[x])\n",
        "                  for x in ['train', 'val']}\n",
        "dataloaders = {x: torch.utils.data.DataLoader(image_datasets[x], batch_size=4,\n",
        "                                             shuffle=True, num_workers=2)\n",
        "              for x in ['train', 'val']}\n",
        "dataset_sizes = {x: len(image_datasets[x]) for x in ['train', 'val']}\n",
        "class_names = image_datasets['train'].classes\n",
        "\n",
        "device = torch.device(\"cuda:0\" if torch.cuda.is_available() else \"cpu\")"
      ],
      "execution_count": 6,
      "outputs": []
    },
    {
      "cell_type": "markdown",
      "metadata": {
        "id": "cwDCJmFXEc_5"
      },
      "source": [
        "Let's visualize a few training images so as to understand the data\n",
        "augmentations.\n",
        "\n"
      ]
    },
    {
      "cell_type": "code",
      "metadata": {
        "colab": {
          "base_uri": "https://localhost:8080/",
          "height": 148
        },
        "id": "B9yCwfZPEc_6",
        "outputId": "8322d9e8-6933-4565-b49f-373cc6357113"
      },
      "source": [
        "def imshow(inp, title=None):\n",
        "    \"\"\"Imshow for Tensor.\"\"\"\n",
        "    inp = inp.numpy().transpose((1, 2, 0))\n",
        "    mean = np.array([0.485, 0.456, 0.406])\n",
        "    std = np.array([0.229, 0.224, 0.225])\n",
        "    inp = std * inp + mean\n",
        "    inp = np.clip(inp, 0, 1)\n",
        "    plt.imshow(inp)\n",
        "    if title is not None:\n",
        "        plt.title(title)\n",
        "    plt.pause(0.001)  # pause a bit so that plots are updated\n",
        "\n",
        "\n",
        "# Get a batch of training data\n",
        "inputs, classes = next(iter(dataloaders['train']))\n",
        "\n",
        "# Make a grid from batch\n",
        "out = torchvision.utils.make_grid(inputs)\n",
        "\n",
        "imshow(out, title=[class_names[x] for x in classes])"
      ],
      "execution_count": 7,
      "outputs": [
        {
          "output_type": "display_data",
          "data": {
            "image/png": "[encoded data removed]",
            "text/plain": [
              "<Figure size 432x288 with 1 Axes>"
            ]
          },
          "metadata": {
            "needs_background": "light"
          }
        }
      ]
    },
    {
      "cell_type": "markdown",
      "metadata": {
        "id": "W-SO2GaxEc_6"
      },
      "source": [
        "Training the model\n",
        "------------------\n",
        "\n",
        "Now, let's write a general function to train a model. Here, we will\n",
        "illustrate:\n",
        "\n",
        "-  Scheduling the learning rate\n",
        "-  Saving the best model\n",
        "\n",
        "In the following, parameter ``scheduler`` is an LR scheduler object from\n",
        "``torch.optim.lr_scheduler``.\n",
        "\n"
      ]
    },
    {
      "cell_type": "code",
      "metadata": {
        "id": "3-obvHrOEc_7"
      },
      "source": [
        "def train_model(model, criterion, optimizer, scheduler, num_epochs=25):\n",
        "    since = time.time()\n",
        "\n",
        "    best_model_wts = copy.deepcopy(model.state_dict())\n",
        "    best_acc = 0.0\n",
        "\n",
        "    for epoch in range(num_epochs):\n",
        "        print('Epoch {}/{}'.format(epoch, num_epochs - 1))\n",
        "        print('-' * 10)\n",
        "\n",
        "        # Each epoch has a training and validation phase\n",
        "        for phase in ['train', 'val']:\n",
        "            if phase == 'train':\n",
        "                model.train()  # Set model to training mode\n",
        "            else:\n",
        "                model.eval()   # Set model to evaluate mode\n",
        "\n",
        "            running_loss = 0.0\n",
        "            running_corrects = 0\n",
        "\n",
        "            # Iterate over data.\n",
        "            for inputs, labels in dataloaders[phase]:\n",
        "                inputs = inputs.to(device)\n",
        "                labels = labels.to(device)\n",
        "\n",
        "                # zero the parameter gradients\n",
        "                optimizer.zero_grad()\n",
        "\n",
        "                # forward\n",
        "                # track history if only in train\n",
        "                with torch.set_grad_enabled(phase == 'train'):\n",
        "                    outputs = model(inputs)\n",
        "                    _, preds = torch.max(outputs, 1)\n",
        "                    loss = criterion(outputs, labels)\n",
        "\n",
        "                    # backward + optimize only if in training phase\n",
        "                    if phase == 'train':\n",
        "                        loss.backward()\n",
        "                        optimizer.step()\n",
        "\n",
        "                # statistics\n",
        "                running_loss += loss.item() * inputs.size(0)\n",
        "                running_corrects += torch.sum(preds == labels.data)\n",
        "            if phase == 'train':\n",
        "                scheduler.step()\n",
        "\n",
        "            epoch_loss = running_loss / dataset_sizes[phase]\n",
        "            epoch_acc = running_corrects.double() / dataset_sizes[phase]\n",
        "\n",
        "            print('{} Loss: {:.4f} Acc: {:.4f}'.format(\n",
        "                phase, epoch_loss, epoch_acc))\n",
        "\n",
        "            # deep copy the model\n",
        "            if phase == 'val' and epoch_acc > best_acc:\n",
        "                best_acc = epoch_acc\n",
        "                best_model_wts = copy.deepcopy(model.state_dict())\n",
        "\n",
        "        print()\n",
        "\n",
        "    time_elapsed = time.time() - since\n",
        "    print('Training complete in {:.0f}m {:.0f}s'.format(\n",
        "        time_elapsed // 60, time_elapsed % 60))\n",
        "    print('Best val Acc: {:4f}'.format(best_acc))\n",
        "\n",
        "    # load best model weights\n",
        "    model.load_state_dict(best_model_wts)\n",
        "    return model"
      ],
      "execution_count": 8,
      "outputs": []
    },
    {
      "cell_type": "markdown",
      "metadata": {
        "id": "G0m2D6NOEc_7"
      },
      "source": [
        "Lets visualize the model predictions. Generic function to display predictions for a few images\n",
        "\n",
        "\n"
      ]
    },
    {
      "cell_type": "code",
      "metadata": {
        "id": "zXT4ez9rEc_8"
      },
      "source": [
        "def visualize_model(model, num_images=6):\n",
        "    was_training = model.training\n",
        "    model.eval()\n",
        "    images_so_far = 0\n",
        "    fig = plt.figure()\n",
        "\n",
        "    with torch.no_grad():\n",
        "        for i, (inputs, labels) in enumerate(dataloaders['val']):\n",
        "            inputs = inputs.to(device)\n",
        "            labels = labels.to(device)\n",
        "\n",
        "            outputs = model(inputs)\n",
        "            _, preds = torch.max(outputs, 1)\n",
        "\n",
        "            for j in range(inputs.size()[0]):\n",
        "                images_so_far += 1\n",
        "                ax = plt.subplot(num_images//2, 2, images_so_far)\n",
        "                ax.axis('off')\n",
        "                ax.set_title('predicted: {}'.format(class_names[preds[j]]))\n",
        "                imshow(inputs.cpu().data[j])\n",
        "\n",
        "                if images_so_far == num_images:\n",
        "                    model.train(mode=was_training)\n",
        "                    return\n",
        "        model.train(mode=was_training)"
      ],
      "execution_count": 9,
      "outputs": []
    },
    {
      "cell_type": "markdown",
      "metadata": {
        "id": "IgM4yZhREc_8"
      },
      "source": [
        "Finetuning the convnet\n",
        "----------------------\n",
        "\n",
        "Load a pretrained model and reset final fully connected layer.\n",
        "\n",
        "\n"
      ]
    },
    {
      "cell_type": "code",
      "metadata": {
        "id": "DmHlRFsGEc_8",
        "colab": {
          "base_uri": "https://localhost:8080/",
          "height": 66,
          "referenced_widgets": [
            "903def1abcce4c169c59bda590792fa0",
            "509d15bc1f9f4fa18e299cce32e551a9",
            "cae1a503192b40f0bb76d09fc65ac6a5",
            "aa0b85f76eed4ff1b8e89224cbef590d",
            "c84f71b237cf485aa03d72da9a6bfe7f",
            "12024e58c2f4460983827b54885ad37c",
            "9ec41ce77979442b9dc410cd9717d051",
            "d07970c519a44154bf3d2aae4cf66418",
            "722a108f43674eb4a1cb87285974f644",
            "7bf1f0b10a65425a907e3a46cc130834",
            "201ccb995633492d9af9b118a00ee12c"
          ]
        },
        "outputId": "269c78b3-19ab-409d-89d0-51683a7d101f"
      },
      "source": [
        "model_ft = models.resnet50(pretrained=True)\n",
        "num_ftrs = model_ft.fc.in_features\n",
        "# Here the size of each output sample is set to 2.\n",
        "# Alternatively, it can be generalized to nn.Linear(num_ftrs, len(class_names)).\n",
        "model_ft.fc = nn.Linear(num_ftrs, 2)\n",
        "\n",
        "model_ft = model_ft.to(device)\n",
        "\n",
        "criterion = nn.CrossEntropyLoss()\n",
        "\n",
        "# Observe that all parameters are being optimized\n",
        "optimizer_ft = optim.SGD(model_ft.parameters(), lr=0.001, momentum=0.9)\n",
        "\n",
        "# Decay LR by a factor of 0.1 every 7 epochs\n",
        "exp_lr_scheduler = lr_scheduler.StepLR(optimizer_ft, step_size=7, gamma=0.1)"
      ],
      "execution_count": 10,
      "outputs": [
        {
          "output_type": "stream",
          "name": "stderr",
          "text": [
            "Downloading: \"https://download.pytorch.org/models/resnet50-0676ba61.pth\" to /root/.cache/torch/hub/checkpoints/resnet50-0676ba61.pth\n"
          ]
        },
        {
          "output_type": "display_data",
          "data": {
            "application/vnd.jupyter.widget-view+json": {
              "model_id": "903def1abcce4c169c59bda590792fa0",
              "version_minor": 0,
              "version_major": 2
            },
            "text/plain": [
              "  0%|          | 0.00/97.8M [00:00<?, ?B/s]"
            ]
          },
          "metadata": {}
        }
      ]
    },
    {
      "cell_type": "markdown",
      "metadata": {
        "id": "zIjPd1dZEc_9"
      },
      "source": [
        "Lets train and evaluate. It should take around 15-25 min on CPU. On GPU though, it takes less than a minute.\n",
        "\n"
      ]
    },
    {
      "cell_type": "code",
      "metadata": {
        "colab": {
          "base_uri": "https://localhost:8080/"
        },
        "id": "YX_GYIKMEc_9",
        "outputId": "0d539132-6563-4de2-f325-366b64b545a3"
      },
      "source": [
        "model_ft = train_model(model_ft, criterion, optimizer_ft, exp_lr_scheduler,\n",
        "                       num_epochs=25)"
      ],
      "execution_count": 11,
      "outputs": [
        {
          "output_type": "stream",
          "name": "stdout",
          "text": [
            "Epoch 0/24\n",
            "----------\n"
          ]
        },
        {
          "output_type": "stream",
          "name": "stderr",
          "text": [
            "/usr/local/lib/python3.7/dist-packages/torch/nn/functional.py:718: UserWarning: Named tensors and all their associated APIs are an experimental feature and subject to change. Please do not use them for anything important until they are released as stable. (Triggered internally at  /pytorch/c10/core/TensorImpl.h:1156.)\n",
            "  return torch.max_pool2d(input, kernel_size, stride, padding, dilation, ceil_mode)\n"
          ]
        },
        {
          "output_type": "stream",
          "name": "stdout",
          "text": [
            "train Loss: 0.5430 Acc: 0.7758\n",
            "val Loss: 0.4249 Acc: 0.8632\n",
            "\n",
            "Epoch 1/24\n",
            "----------\n",
            "train Loss: 0.4712 Acc: 0.8253\n",
            "val Loss: 0.2504 Acc: 0.8986\n",
            "\n",
            "Epoch 2/24\n",
            "----------\n",
            "train Loss: 0.4353 Acc: 0.8268\n",
            "val Loss: 0.2531 Acc: 0.9057\n",
            "\n",
            "Epoch 3/24\n",
            "----------\n",
            "train Loss: 0.4066 Acc: 0.8338\n",
            "val Loss: 0.3903 Acc: 0.8538\n",
            "\n",
            "Epoch 4/24\n",
            "----------\n",
            "train Loss: 0.3149 Acc: 0.8848\n",
            "val Loss: 0.2472 Acc: 0.8880\n",
            "\n",
            "Epoch 5/24\n",
            "----------\n",
            "train Loss: 0.2404 Acc: 0.9035\n",
            "val Loss: 0.3808 Acc: 0.8219\n",
            "\n",
            "Epoch 6/24\n",
            "----------\n",
            "train Loss: 0.2493 Acc: 0.9045\n",
            "val Loss: 0.4700 Acc: 0.7913\n",
            "\n",
            "Epoch 7/24\n",
            "----------\n",
            "train Loss: 0.1597 Acc: 0.9374\n",
            "val Loss: 0.2916 Acc: 0.8774\n",
            "\n",
            "Epoch 8/24\n",
            "----------\n",
            "train Loss: 0.1340 Acc: 0.9551\n",
            "val Loss: 0.2650 Acc: 0.8856\n",
            "\n",
            "Epoch 9/24\n",
            "----------\n",
            "train Loss: 0.1410 Acc: 0.9470\n",
            "val Loss: 0.2942 Acc: 0.8726\n",
            "\n",
            "Epoch 10/24\n",
            "----------\n",
            "train Loss: 0.1197 Acc: 0.9520\n",
            "val Loss: 0.2841 Acc: 0.8821\n",
            "\n",
            "Epoch 11/24\n",
            "----------\n",
            "train Loss: 0.1268 Acc: 0.9571\n",
            "val Loss: 0.2943 Acc: 0.8656\n",
            "\n",
            "Epoch 12/24\n",
            "----------\n",
            "train Loss: 0.1181 Acc: 0.9576\n",
            "val Loss: 0.3053 Acc: 0.8656\n",
            "\n",
            "Epoch 13/24\n",
            "----------\n",
            "train Loss: 0.1302 Acc: 0.9566\n",
            "val Loss: 0.2819 Acc: 0.8809\n",
            "\n",
            "Epoch 14/24\n",
            "----------\n",
            "train Loss: 0.1152 Acc: 0.9636\n",
            "val Loss: 0.3022 Acc: 0.8644\n",
            "\n",
            "Epoch 15/24\n",
            "----------\n",
            "train Loss: 0.1093 Acc: 0.9601\n",
            "val Loss: 0.2913 Acc: 0.8656\n",
            "\n",
            "Epoch 16/24\n",
            "----------\n",
            "train Loss: 0.1051 Acc: 0.9662\n",
            "val Loss: 0.2848 Acc: 0.8785\n",
            "\n",
            "Epoch 17/24\n",
            "----------\n",
            "train Loss: 0.0957 Acc: 0.9697\n",
            "val Loss: 0.2948 Acc: 0.8738\n",
            "\n",
            "Epoch 18/24\n",
            "----------\n",
            "train Loss: 0.1139 Acc: 0.9606\n",
            "val Loss: 0.3009 Acc: 0.8750\n",
            "\n",
            "Epoch 19/24\n",
            "----------\n",
            "train Loss: 0.1090 Acc: 0.9596\n",
            "val Loss: 0.2854 Acc: 0.8726\n",
            "\n",
            "Epoch 20/24\n",
            "----------\n",
            "train Loss: 0.1088 Acc: 0.9606\n",
            "val Loss: 0.3053 Acc: 0.8573\n",
            "\n",
            "Epoch 21/24\n",
            "----------\n",
            "train Loss: 0.1082 Acc: 0.9596\n",
            "val Loss: 0.2765 Acc: 0.8868\n",
            "\n",
            "Epoch 22/24\n",
            "----------\n",
            "train Loss: 0.0977 Acc: 0.9702\n",
            "val Loss: 0.2846 Acc: 0.8844\n",
            "\n",
            "Epoch 23/24\n",
            "----------\n",
            "train Loss: 0.0984 Acc: 0.9682\n",
            "val Loss: 0.2716 Acc: 0.8856\n",
            "\n",
            "Epoch 24/24\n",
            "----------\n",
            "train Loss: 0.0989 Acc: 0.9687\n",
            "val Loss: 0.2811 Acc: 0.8797\n",
            "\n",
            "Training complete in 41m 52s\n",
            "Best val Acc: 0.905660\n"
          ]
        }
      ]
    },
    {
      "cell_type": "code",
      "metadata": {
        "colab": {
          "base_uri": "https://localhost:8080/",
          "height": 581
        },
        "id": "Q5kmDE5REc_9",
        "outputId": "4a3be30e-cb42-4560-e93a-56520f046b64"
      },
      "source": [
        "visualize_model(model_ft)"
      ],
      "execution_count": 12,
      "outputs": [
        {
          "output_type": "display_data",
          "data": {
            "image/png": "[encoded data removed]",
            "text/plain": [
              "<Figure size 432x288 with 1 Axes>"
            ]
          },
          "metadata": {
            "needs_background": "light"
          }
        },
        {
          "output_type": "display_data",
          "data": {
            "image/png": "[encoded data removed]",
            "text/plain": [
              "<Figure size 432x288 with 1 Axes>"
            ]
          },
          "metadata": {
            "needs_background": "light"
          }
        },
        {
          "output_type": "display_data",
          "data": {
            "image/png": "[encoded data removed]",
            "text/plain": [
              "<Figure size 432x288 with 1 Axes>"
            ]
          },
          "metadata": {
            "needs_background": "light"
          }
        },
        {
          "output_type": "display_data",
          "data": {
            "image/png": "[encoded data removed]",
            "text/plain": [
              "<Figure size 432x288 with 1 Axes>"
            ]
          },
          "metadata": {
            "needs_background": "light"
          }
        },
        {
          "output_type": "display_data",
          "data": {
            "image/png": "[encoded data removed]",
            "text/plain": [
              "<Figure size 432x288 with 1 Axes>"
            ]
          },
          "metadata": {
            "needs_background": "light"
          }
        },
        {
          "output_type": "display_data",
          "data": {
            "image/png": "[encoded data removed]",
            "text/plain": [
              "<Figure size 432x288 with 1 Axes>"
            ]
          },
          "metadata": {
            "needs_background": "light"
          }
        }
      ]
    },
    {
      "cell_type": "markdown",
      "metadata": {
        "id": "vG532FCHEc_9"
      },
      "source": [
        "ConvNet as fixed feature extractor\n",
        "----------------------------------\n",
        "\n",
        "Here, we need to freeze all the network except the final layer. We need\n",
        "to set ``requires_grad == False`` to freeze the parameters so that the\n",
        "gradients are not computed in ``backward()``.\n",
        "\n",
        "\n"
      ]
    },
    {
      "cell_type": "code",
      "metadata": {
        "id": "pqcr_rExEc_-"
      },
      "source": [
        "model_conv = torchvision.models.resnet50(pretrained=True)\n",
        "for param in model_conv.parameters():\n",
        "    param.requires_grad = False\n",
        "\n",
        "# Parameters of newly constructed modules have requires_grad=True by default\n",
        "num_ftrs = model_conv.fc.in_features\n",
        "model_conv.fc = nn.Linear(num_ftrs, 2)\n",
        "\n",
        "model_conv = model_conv.to(device)\n",
        "\n",
        "criterion = nn.CrossEntropyLoss()\n",
        "\n",
        "# Observe that only parameters of final layer are being optimized as\n",
        "# opposed to before.\n",
        "optimizer_conv = optim.SGD(model_conv.fc.parameters(), lr=0.001, momentum=0.9)\n",
        "\n",
        "# Decay LR by a factor of 0.1 every 7 epochs\n",
        "exp_lr_scheduler = lr_scheduler.StepLR(optimizer_conv, step_size=7, gamma=0.1)"
      ],
      "execution_count": 14,
      "outputs": []
    },
    {
      "cell_type": "markdown",
      "metadata": {
        "id": "aW3VN3WkEc_-"
      },
      "source": [
        "Train and evaluate\n",
        "\n",
        "On CPU this will take about half the time compared to previous scenario.\n",
        "This is expected as gradients don't need to be computed for most of the\n",
        "network. However, forward does need to be computed.\n",
        "\n"
      ]
    },
    {
      "cell_type": "code",
      "metadata": {
        "colab": {
          "base_uri": "https://localhost:8080/"
        },
        "id": "pfM39xCyEc_-",
        "outputId": "7809b2fc-f1b2-4b17-b406-bffa5ffef58f"
      },
      "source": [
        "model_conv = train_model(model_conv, criterion, optimizer_conv,\n",
        "                         exp_lr_scheduler, num_epochs=25)"
      ],
      "execution_count": 15,
      "outputs": [
        {
          "output_type": "stream",
          "name": "stdout",
          "text": [
            "Epoch 0/24\n",
            "----------\n",
            "train Loss: 0.4973 Acc: 0.7672\n",
            "val Loss: 0.3463 Acc: 0.8608\n",
            "\n",
            "Epoch 1/24\n",
            "----------\n",
            "train Loss: 0.6200 Acc: 0.7601\n",
            "val Loss: 0.5128 Acc: 0.8054\n",
            "\n",
            "Epoch 2/24\n",
            "----------\n",
            "train Loss: 0.4758 Acc: 0.8010\n",
            "val Loss: 0.3572 Acc: 0.8632\n",
            "\n",
            "Epoch 3/24\n",
            "----------\n",
            "train Loss: 0.4778 Acc: 0.8086\n",
            "val Loss: 0.2795 Acc: 0.8844\n",
            "\n",
            "Epoch 4/24\n",
            "----------\n",
            "train Loss: 0.4942 Acc: 0.7939\n",
            "val Loss: 0.3342 Acc: 0.8644\n",
            "\n",
            "Epoch 5/24\n",
            "----------\n",
            "train Loss: 0.4764 Acc: 0.8025\n",
            "val Loss: 0.2987 Acc: 0.8644\n",
            "\n",
            "Epoch 6/24\n",
            "----------\n",
            "train Loss: 0.5076 Acc: 0.7939\n",
            "val Loss: 0.3034 Acc: 0.8844\n",
            "\n",
            "Epoch 7/24\n",
            "----------\n",
            "train Loss: 0.4009 Acc: 0.8419\n",
            "val Loss: 0.2823 Acc: 0.8844\n",
            "\n",
            "Epoch 8/24\n",
            "----------\n",
            "train Loss: 0.3545 Acc: 0.8510\n",
            "val Loss: 0.3199 Acc: 0.8703\n",
            "\n",
            "Epoch 9/24\n",
            "----------\n",
            "train Loss: 0.3347 Acc: 0.8500\n",
            "val Loss: 0.2883 Acc: 0.8726\n",
            "\n",
            "Epoch 10/24\n",
            "----------\n",
            "train Loss: 0.3717 Acc: 0.8455\n",
            "val Loss: 0.3013 Acc: 0.8750\n",
            "\n",
            "Epoch 11/24\n",
            "----------\n",
            "train Loss: 0.3279 Acc: 0.8626\n",
            "val Loss: 0.2921 Acc: 0.8774\n",
            "\n",
            "Epoch 12/24\n",
            "----------\n",
            "train Loss: 0.3575 Acc: 0.8404\n",
            "val Loss: 0.3253 Acc: 0.8656\n",
            "\n",
            "Epoch 13/24\n",
            "----------\n",
            "train Loss: 0.3446 Acc: 0.8505\n",
            "val Loss: 0.2864 Acc: 0.8856\n",
            "\n",
            "Epoch 14/24\n",
            "----------\n",
            "train Loss: 0.3454 Acc: 0.8500\n",
            "val Loss: 0.2911 Acc: 0.8726\n",
            "\n",
            "Epoch 15/24\n",
            "----------\n",
            "train Loss: 0.3247 Acc: 0.8672\n",
            "val Loss: 0.3109 Acc: 0.8608\n",
            "\n",
            "Epoch 16/24\n",
            "----------\n",
            "train Loss: 0.3478 Acc: 0.8480\n",
            "val Loss: 0.3078 Acc: 0.8667\n",
            "\n",
            "Epoch 17/24\n",
            "----------\n",
            "train Loss: 0.3012 Acc: 0.8732\n",
            "val Loss: 0.2957 Acc: 0.8703\n",
            "\n",
            "Epoch 18/24\n",
            "----------\n",
            "train Loss: 0.3559 Acc: 0.8530\n",
            "val Loss: 0.2960 Acc: 0.8715\n",
            "\n",
            "Epoch 19/24\n",
            "----------\n",
            "train Loss: 0.3231 Acc: 0.8586\n",
            "val Loss: 0.2925 Acc: 0.8679\n",
            "\n",
            "Epoch 20/24\n",
            "----------\n",
            "train Loss: 0.3380 Acc: 0.8480\n",
            "val Loss: 0.2909 Acc: 0.8738\n",
            "\n",
            "Epoch 21/24\n",
            "----------\n",
            "train Loss: 0.3301 Acc: 0.8591\n",
            "val Loss: 0.2885 Acc: 0.8821\n",
            "\n",
            "Epoch 22/24\n",
            "----------\n",
            "train Loss: 0.3062 Acc: 0.8687\n",
            "val Loss: 0.2982 Acc: 0.8679\n",
            "\n",
            "Epoch 23/24\n",
            "----------\n",
            "train Loss: 0.3162 Acc: 0.8646\n",
            "val Loss: 0.2837 Acc: 0.8738\n",
            "\n",
            "Epoch 24/24\n",
            "----------\n",
            "train Loss: 0.3253 Acc: 0.8586\n",
            "val Loss: 0.3033 Acc: 0.8656\n",
            "\n",
            "Training complete in 15m 2s\n",
            "Best val Acc: 0.885613\n"
          ]
        }
      ]
    },
    {
      "cell_type": "code",
      "metadata": {
        "id": "-NkVYCXjEc__",
        "colab": {
          "base_uri": "https://localhost:8080/",
          "height": 581
        },
        "outputId": "5a2afceb-bb62-4386-a6fc-f8fdd568e223"
      },
      "source": [
        "visualize_model(model_conv)\n",
        "\n",
        "plt.ioff()\n",
        "plt.show()"
      ],
      "execution_count": 18,
      "outputs": [
        {
          "output_type": "display_data",
          "data": {
            "image/png": "[encoded data removed]",
            "text/plain": [
              "<Figure size 432x288 with 1 Axes>"
            ]
          },
          "metadata": {
            "needs_background": "light"
          }
        },
        {
          "output_type": "display_data",
          "data": {
            "image/png": "[encoded data removed]",
            "text/plain": [
              "<Figure size 432x288 with 1 Axes>"
            ]
          },
          "metadata": {
            "needs_background": "light"
          }
        },
        {
          "output_type": "display_data",
          "data": {
            "image/png": "[encoded data removed]",
            "text/plain": [
              "<Figure size 432x288 with 1 Axes>"
            ]
          },
          "metadata": {
            "needs_background": "light"
          }
        },
        {
          "output_type": "display_data",
          "data": {
            "image/png": "[encoded data removed]",
            "text/plain": [
              "<Figure size 432x288 with 1 Axes>"
            ]
          },
          "metadata": {
            "needs_background": "light"
          }
        },
        {
          "output_type": "display_data",
          "data": {
            "image/png": "[encoded data removed]",
            "text/plain": [
              "<Figure size 432x288 with 1 Axes>"
            ]
          },
          "metadata": {
            "needs_background": "light"
          }
        },
        {
          "output_type": "display_data",
          "data": {
            "image/png": "[encoded data removed]",
            "text/plain": [
              "<Figure size 432x288 with 1 Axes>"
            ]
          },
          "metadata": {
            "needs_background": "light"
          }
        }
      ]
    },
    {
      "cell_type": "code",
      "metadata": {
        "id": "GDWljLpsplSJ"
      },
      "source": [
        "torch.save(model_conv, 'model.pth')"
      ],
      "execution_count": 17,
      "outputs": []
    },
    {
      "cell_type": "markdown",
      "metadata": {
        "id": "wIlnyJSxwh7x"
      },
      "source": [
        "# Demo Instructions\n",
        "   If you follow the following steps to run this notebook. You will get my result.\n",
        "    \n",
        "    1) kindly change all directories to conform with the codebase in this notebook\n",
        "\n",
        "        data_dir = \"/content/drive/My Drive/Curacel_ai_engine/car_data\"\n",
        "        train_dir = \"/content/drive/My Drive/Curacel_ai_engine/car_data/train\"\n",
        "        val_dir = \"/content/drive/My Drive/Curacel_ai_engine/car_data/val\"\n",
        "    \n",
        "        Remember:\n",
        "           Accidented car = a_car\n",
        "           Non_Accidented car = n_car\n",
        "\n",
        "    2) Use the inference api at https://github.com/Engrgit/Curacel-tasks/tree/main/car_detection_api for testing  \n",
        "    3) when you get model.pth output, copy it into the folder here -> Curacel-tasks/car_detection_api/ml_model/ \n",
        "    4) Test the Flask API by installing all the requirements\n",
        "    5) Have a lovely day and enjoy tesing the model.\n",
        "\n",
        "\n",
        "    Cheers\n",
        "    Ibrahim"
      ]
    },
    {
      "cell_type": "code",
      "metadata": {
        "id": "VnNcPFr2-vgL"
      },
      "source": [
        ""
      ],
      "execution_count": null,
      "outputs": []
    }
  ]
}